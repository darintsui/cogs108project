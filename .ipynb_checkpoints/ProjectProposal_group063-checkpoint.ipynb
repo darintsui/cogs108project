{
 "cells": [
  {
   "cell_type": "markdown",
   "metadata": {},
   "source": [
    "# COGS 108 - Final Project Proposal"
   ]
  },
  {
   "cell_type": "markdown",
   "metadata": {},
   "source": [
    "# Names\n",
    "\n",
    "- Zheran Li\n",
    "- Ye Jin\n",
    "- Carlos Pondevida\n",
    "- Darin Tsui\n",
    "- Helen Zhao"
   ]
  },
  {
   "cell_type": "markdown",
   "metadata": {},
   "source": [
    "# Research Question"
   ]
  },
  {
   "cell_type": "markdown",
   "metadata": {},
   "source": [
    "*How has online education affected UCSD undergraduate students' academic performance and experience?*"
   ]
  },
  {
   "cell_type": "markdown",
   "metadata": {},
   "source": [
    "## Background and Prior Work"
   ]
  },
  {
   "cell_type": "markdown",
   "metadata": {},
   "source": [
    "Under this global pandemic, many universities around the world are adopting online instructions to prevent further spread of disease. Due to the sudden change in learning style for most students, we’re wondering whether or not online learning will directly affect academic performance and experience. Professors usually give more assignments and homework for students to make sure they are on the right track, which could probably increase the study time for students and also the grades of the class. \n",
    "Studies pertaining to online learning have already been conducted, including one case study done on Peking University (Reference 2). This study did an in depth analysis on the instructional strategies used in Peking University and classified six of these strategies to be highly effective. This study relates to our project because the six strategies that they listed are strategies that are currently implemented at UCSD for their undergraduate students. So we’re interested in seeing if these strategies have any effect on students in terms of their academic performance and experience, either negatively, positively, or no effect, for a different case study. \n",
    "\n",
    "Another study that has been done is on the educational system in India (Reference 1). This study takes into account the role of online learning and e-learning that educational institutions may have implemented in times of emergencies, including but not specific to the time of Coronavirus pandemic. This study analyzes the strengths, weaknesses, opportunities, and challenges of online learning in times of the Covid-19 pandemic. This study emphasizes on the idea that online education could’ve been much more effective if we have already mastered it before we were forced to rely on it. They believe that the occurrence of natural disasters should be used as motivation to continue to build up and improve online education due to the fact that these crisis-like situations will continue to occur. Our project will build off of this study. They mentioned that online learning should be continued; however, is online learning really benefiting students in the long run? Our project will delve deeper into the effects of online learning on undergraduate students and whether or not continuing online education is more advantageous in the long run. \n",
    "\n",
    "\n",
    "References (include links):\n",
    "- 1)https://onlinelibrary.wiley.com/doi/full/10.1002/hbe2.191\n",
    "- 2)https://journals.sagepub.com/doi/full/10.1177/0047239520934018"
   ]
  },
  {
   "cell_type": "markdown",
   "metadata": {},
   "source": [
    "# Hypothesis\n"
   ]
  },
  {
   "cell_type": "markdown",
   "metadata": {},
   "source": [
    "*State and defend your hypotheses here.*\n",
    "\n",
    "Overall, we expect that the online instruction model is not efficient as the in-person teaching model due to a sudden change in teaching style, resulting in an increase in the number of hours students spend on their classes and  a decrease in GPA. "
   ]
  },
  {
   "cell_type": "markdown",
   "metadata": {},
   "source": [
    "# Data"
   ]
  },
  {
   "cell_type": "markdown",
   "metadata": {},
   "source": [
    "*Explain what the ideal dataset you would want to answer this question. (This should include: What variables? How many observations? Who/what/how would these data be collected? How would these data be stored/organized?)*\n",
    "\n",
    "The ideal dataset would revolve around gathering data from UCSD’s Course and Professor Evaluation (CAPE) website since we’re focusing on UCSD undergraduate students. Overall, CAPE data are collected from students where they fill out an anonymous survey about their course experience at the end of every quarter. \n",
    "\n",
    "Specifically, we will use the data from classes across several majors with details on the number of hours students put into studying per week and the overall GPA (expected vs actual) of the class. The data will be sorted in csv format. To compare performance, our dataset would include both data from before the pandemic (latest being Fall 2019), and past that would encompass the data during the pandemic. \n"
   ]
  },
  {
   "cell_type": "markdown",
   "metadata": {},
   "source": [
    "# Ethics & Privacy"
   ]
  },
  {
   "cell_type": "markdown",
   "metadata": {},
   "source": [
    "The data we proposed would come from students self-reporting so there could be some bias depending on if a data point comes from say a student who was adapted exceptionally well and thus their performance does not represent the average student experience. To remedy this, we will look for data that involves a large sample of students in order to obtain a representation of the average student experience. Another point of potential bias would be differences in experience for certain professors and classes. To address this we will pull student data from the same professors and course over our time frame.\n",
    "\n",
    "Privacy shouldn’t be a concern is this project, as all data we collect comes from anonymous student self-reporting. Additionally, no names will be added to the dataset, as we are only looking at the averages of large student populations. For professor names, we can replace the actual names with codes to serve as an alternative ID. If a course is usually taught only by one or two professors, we will drop the data during the Data Wrangling process. We will detect whether personal information is removed when processing data and make sure no personal information can be inferred from the data analysis.\n"
   ]
  },
  {
   "cell_type": "markdown",
   "metadata": {},
   "source": [
    "# Team Expectations "
   ]
  },
  {
   "cell_type": "markdown",
   "metadata": {},
   "source": [
    "* *Complete assigned tasks by agreed upon deadlines unless genuine issues arise*\n",
    "* *Be completely transparent when we need help/need more time to work on our assigned tasks*\n",
    "* *Keep in contact with each other using Messenger and email*\n",
    "* *Attend group meetings every week to check in on progress and discuss project directions*\n",
    "* *Talk about any conflicts as a group rather than letting it fester*"
   ]
  },
  {
   "cell_type": "markdown",
   "metadata": {},
   "source": [
    "# Project Timeline Proposal"
   ]
  },
  {
   "cell_type": "markdown",
   "metadata": {},
   "source": [
    "| Meeting Date  | Meeting Time| Completed Before Meeting  | Discuss at Meeting |\n",
    "|---|---|---|---|\n",
    "| 1/21  |  5 PM | Read & Think about COGS 108 expectations; brainstorm topics/questions  | Determine best form of communication; Discuss and decide on final project topic; discuss hypothesis; begin background research | \n",
    "| 1/28  |  5 PM |  Do background research on topic | Discuss ideal dataset(s) and ethics; write ands submit project proposal | \n",
    "| 2/4  | 5 PM  | Search for datasets  | Revise research question and hypothesis as needed; Discuss Wrangling and possible analytical approaches; Assign group members to lead each specific part   |\n",
    "| 2/11  | 5 PM  | Import & Wrangle Data | Finish and submit Checkpoint 1; Discuss Analysis Plan   |\n",
    "| 2/18  | 5 PM  | Begin EDA; Begin Analysis  | Discuss/edit Analysis; Discuss/edit EDA |\n",
    "| 2/25  | 5 PM   | Finish EDA, Continue Analysis | Discuss Group Video; Submit EDA; Assign Video Roles |\n",
    "| 3/4   | 5 PM  | Prepare Video Script/Materials | Film Final Video |\n",
    "| 3/11  | 5 PM  | Complete analysis; Draft results/conclusion/discussion; Edit Video | Discuss/edit full project (report and video) |\n",
    "| 3/17  | Before 11:59 PM  | NA | Turn in Final Report, Final Video & Group Project Surveys |"
   ]
  }
 ],
 "metadata": {
  "kernelspec": {
   "display_name": "Python 3",
   "language": "python",
   "name": "python3"
  },
  "language_info": {
   "codemirror_mode": {
    "name": "ipython",
    "version": 3
   },
   "file_extension": ".py",
   "mimetype": "text/x-python",
   "name": "python",
   "nbconvert_exporter": "python",
   "pygments_lexer": "ipython3",
   "version": "3.8.3"
  }
 },
 "nbformat": 4,
 "nbformat_minor": 2
}
